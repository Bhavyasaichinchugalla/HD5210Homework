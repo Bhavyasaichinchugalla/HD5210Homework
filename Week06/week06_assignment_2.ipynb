{
  "cells": [
    {
      "cell_type": "markdown",
      "metadata": {
        "nbgrader": {
          "grade": false,
          "grade_id": "intro",
          "locked": true,
          "schema_version": 1,
          "solution": false
        },
        "id": "Upu4Iyn7r5xq"
      },
      "source": [
        "# Week 6 Exercises\n",
        "\n",
        "_McKinney 6.1_\n",
        "\n",
        "There are multiple ways to solve the problems below.  You can use any one of several approaches.  For example, you can read CSV files using Pandas or the csv module.  Your score won't depend on which modules you choose to use unless explicitly noted below, but your programming style will still matter."
      ]
    },
    {
      "cell_type": "markdown",
      "metadata": {
        "id": "mI45adwXr5xr"
      },
      "source": [
        "### 30.0 Create sample data in local directory"
      ]
    },
    {
      "cell_type": "code",
      "execution_count": 28,
      "metadata": {
        "id": "5vSKGydDr5xr"
      },
      "outputs": [],
      "source": [
        "import pickle\n",
        "\n",
        "raw = b'\\x80\\x04\\x95\\xac\\x10\\x00\\x00\\x00\\x00\\x00\\x00X\\xa5\\x10\\x00\\x00{\\n  \"entry\": [\\n    {\\n      \"resource\": {\\n        \"resourceType\": \"AllergyIntolerance\",\\n        \"recordedDate\": \"2015-08-24T23:11:36Z\",\\n        \"status\": \"confirmed\",\\n        \"criticality\": \"CRITL\",\\n        \"onset\": \"2012-11-07T00:00:00Z\",\\n        \"patient\": {\\n          \"display\": \"Jason Argonaut\"\\n        },\\n        \"substance\": {\\n          \"text\": \"PENICILLIN G\",\\n          \"coding\": [\\n            {\\n              \"system\": \"http://www.nlm.nih.gov/research/umls/rxnorm\",\\n              \"code\": \"7980\",\\n              \"display\": \"PENICILLIN G\"\\n            },\\n            {\\n              \"system\": \"http://fdasis.nlm.nih.gov\",\\n              \"code\": \"Q42T66VG0C\",\\n              \"display\": \"PENICILLIN G\"\\n            }\\n          ]\\n        },\\n        \"reaction\": [\\n          {\\n            \"certainty\": \"confirmed\",\\n            \"onset\": \"2012-11-07T00:00:00Z\",\\n            \"manifestation\": [\\n              {\\n                \"text\": \"Hives\"\\n              }\\n            ],\\n            \"note\": {\\n              \"text\": \"Severity low enough to be prescribed if needed.\"\\n            }\\n          }\\n        ],\\n        \"note\": {\\n          \"text\": \"Severity low enough to be prescribed if needed.\"\\n        }\\n      }\\n    },\\n    {\\n      \"resource\": {\\n        \"resourceType\": \"AllergyIntolerance\",\\n        \"recordedDate\": \"2015-11-07T20:55:10Z\",\\n        \"status\": \"confirmed\",\\n        \"criticality\": \"CRITL\",\\n        \"id\": \"TPcWiBG2h2E114Vh0sRT8fQB\",\\n        \"onset\": \"2010-05-02T00:00:00Z\",\\n        \"patient\": {\\n          \"display\": \"Jason Argonaut\"\\n        },\\n        \"substance\": {\\n          \"text\": \"SHELLFISH-DERIVED PRODUCTS\",\\n          \"coding\": [\\n            {\\n              \"system\": \"http://hl7.org/fhir/ndfrt\",\\n              \"code\": \"N0000007624\",\\n              \"display\": \"SHELLFISH-DERIVED PRODUCTS\"\\n            }\\n          ]\\n        },\\n        \"reaction\": [\\n          {\\n            \"certainty\": \"confirmed\",\\n            \"onset\": \"2010-05-02T00:00:00Z\",\\n            \"manifestation\": [\\n              {\\n                \"text\": \"Itching\"\\n              }\\n            ]\\n          }\\n        ]\\n      }\\n    },\\n    {\\n      \"resource\": {\\n        \"resourceType\": \"AllergyIntolerance\",\\n        \"recordedDate\": \"2015-11-07T20:56:34Z\",\\n        \"status\": \"confirmed\",\\n        \"criticality\": \"CRITH\",\\n        \"id\": \"TKebKfLXzu6Sp.LY-IpvpmQB\",\\n        \"onset\": \"2014-03-07T00:00:00Z\",\\n        \"patient\": {\\n          \"display\": \"Jason Argonaut\"\\n        },\\n        \"substance\": {\\n          \"text\": \"STRAWBERRY\",\\n          \"coding\": [\\n            {\\n              \"system\": \"http://www.nlm.nih.gov/research/umls/rxnorm\",\\n              \"code\": \"892484\",\\n              \"display\": \"STRAWBERRY\"\\n            },\\n            {\\n              \"system\": \"http://fdasis.nlm.nih.gov\",\\n              \"code\": \"4J2TY8Y81V\",\\n              \"display\": \"STRAWBERRY\"\\n            }\\n          ]\\n        },\\n        \"reaction\": [\\n          {\\n            \"certainty\": \"confirmed\",\\n            \"onset\": \"2014-03-07T00:00:00Z\",\\n            \"manifestation\": [\\n              {\\n                \"text\": \"Anaphylaxis\"\\n              }\\n            ]\\n          }\\n        ]\\n      }\\n    },\\n    {\\n      \"resource\": {\\n        \"resourceType\": \"AllergyIntolerance\",\\n        \"recordedDate\": \"2015-08-24T23:11:36Z\",\\n        \"status\": \"confirmed\",\\n        \"criticality\": \"CRITL\",\\n        \"onset\": \"1978-12-08T00:00:00Z\",\\n        \"patient\": {\\n          \"display\": \"Paul Boal\"\\n        },\\n        \"substance\": {\\n          \"text\": \"PENICILLIN G\",\\n          \"coding\": [\\n            {\\n              \"system\": \"http://www.nlm.nih.gov/research/umls/rxnorm\",\\n              \"code\": \"7980\",\\n              \"display\": \"PENICILLIN G\"\\n            },\\n            {\\n              \"system\": \"http://fdasis.nlm.nih.gov\",\\n              \"code\": \"Q42T66VG0C\",\\n              \"display\": \"PENICILLIN G\"\\n            }\\n          ]\\n        },\\n        \"reaction\": [\\n          {\\n            \"certainty\": \"confirmed\",\\n            \"onset\": \"1978-12-08T00:00:00Z\",\\n            \"manifestation\": [\\n              {\\n                \"text\": \"Bruising\"\\n              }\\n            ],\\n            \"note\": {\\n              \"text\": \"Do not prescribe!\"\\n            }\\n          }\\n        ],\\n        \"note\": {\\n          \"text\": \"Do not prescribe!\"\\n        }\\n      }\\n    }\\n  ]\\n}\\n\\x94.'\n",
        "json_data = pickle.loads(raw)\n",
        "\n",
        "with open(\"allergies.json\", \"w\") as f:\n",
        "    f.write(json_data)"
      ]
    },
    {
      "cell_type": "markdown",
      "metadata": {
        "nbgrader": {
          "grade": false,
          "grade_id": "q1-description",
          "locked": true,
          "schema_version": 1,
          "solution": false
        },
        "id": "kEjBvTtjr5xs"
      },
      "source": [
        "### 30.1 List of Allergies\n",
        "\n",
        "After running 30.0 to create your input data file, there is a file called `allergies.json` that contains a list of patient allergies. It is taken from sample data provided by the EHR vendor, Epic, here: https://open.epic.com/Clinical/Allergy\n",
        "\n",
        "Take some time to look at the structure of the file.  You can open it directly in Jupyter by clicking the _Home_ icon, then the _from_instructor_ folder, and then the _data_ folder.\n",
        "\n",
        "Within the file, you'll see that it is a dictionary with many items in it.  One of those items is called `entry` and that item is a list of things.  You can tell that because the item name is immediately followed by an opening square bracket, signifying the start of a list.  It's line 11 of the file: `  \"entry\": [`\n",
        "\n",
        "Write a function named `allergy_count(json_file)` that takes as one parameter the name of the JSON file and returns an integer number of entries in that file.  Your function should open the file, read the json into a Python object, and return how many items there are in the list of `entry`s."
      ]
    },
    {
      "cell_type": "code",
      "execution_count": 29,
      "metadata": {
        "id": "GBv7AaXqr5xs"
      },
      "outputs": [],
      "source": [
        "import json\n",
        "ALLERGIES_FILE=\"allergies.json\""
      ]
    },
    {
      "cell_type": "code",
      "execution_count": 30,
      "metadata": {
        "nbgrader": {
          "grade": false,
          "grade_id": "q1-answer",
          "locked": false,
          "schema_version": 1,
          "solution": true
        },
        "id": "2lQPLvPor5xt"
      },
      "outputs": [],
      "source": [
        "def allergy_count(json_file):\n",
        "    \"\"\"\n",
        "    (str) -> int\n",
        "    * json_file is the path to a JSON file containing allergy data.\n",
        "\n",
        "    This function counts the number of allergy entries in the specified JSON file.\n",
        "    The file should include an 'entry' field, which is a list containing allergy data.\n",
        "    It returns the count of allergies as an integer.\n",
        "    Raises a FileNotFoundError if the file does not exist, or a general exception for\n",
        "    any other issues encountered while reading the file.\n",
        "\n",
        "    Example:\n",
        "    >>> allergy_count(\"allergies.json\")\n",
        "    4\n",
        "    \"\"\"\n",
        "\n",
        "    try:\n",
        "        with open(json_file, 'r') as file:\n",
        "            data = json.load(file)\n",
        "\n",
        "            if 'entry' not in data:\n",
        "                print(\"'entry' field not found in the JSON file.\")\n",
        "                return 0\n",
        "\n",
        "            return len(data['entry'])\n",
        "\n",
        "    except FileNotFoundError:\n",
        "        print(f\"File '{json_file}' is not found.\")\n",
        "        return 0\n",
        "\n",
        "    except Exception as e:\n",
        "        print(f\"An error occurred: {str(e)}\")\n",
        "        return 0\n"
      ]
    },
    {
      "cell_type": "code",
      "execution_count": 31,
      "metadata": {
        "id": "tVFdBJTVr5xt",
        "outputId": "f2026853-4570-4635-bc2c-6514c2fa1c6f",
        "colab": {
          "base_uri": "https://localhost:8080/"
        }
      },
      "outputs": [
        {
          "output_type": "execute_result",
          "data": {
            "text/plain": [
              "4"
            ]
          },
          "metadata": {},
          "execution_count": 31
        }
      ],
      "source": [
        "allergy_count(ALLERGIES_FILE)"
      ]
    },
    {
      "cell_type": "code",
      "execution_count": 32,
      "metadata": {
        "nbgrader": {
          "grade": true,
          "grade_id": "q1-tests",
          "locked": true,
          "points": 5,
          "schema_version": 1,
          "solution": false
        },
        "id": "aTU3JAqWr5xt"
      },
      "outputs": [],
      "source": [
        "assert type(allergy_count(ALLERGIES_FILE)) == int\n",
        "assert allergy_count(ALLERGIES_FILE) == 4"
      ]
    },
    {
      "cell_type": "markdown",
      "metadata": {
        "id": "jwjfUFcqr5xt"
      },
      "source": [
        "### 30.2 Number of Patients\n",
        "\n",
        "If you dig a little bit deaper into this list of allergies, you'll see that each result has a patient associated with it.  Create a funcation called `patient_count(json_file)` that will count how many unique patients we have in this JSON structure.  "
      ]
    },
    {
      "cell_type": "code",
      "execution_count": 33,
      "metadata": {
        "id": "3HVWniqer5xt"
      },
      "outputs": [],
      "source": [
        "def patient_count(json_file):\n",
        "    \"\"\"\n",
        "    (str) -> int\n",
        "    * json_file is the path to a JSON file containing allergies data.\n",
        "\n",
        "    This function determines the number of distinct patients in a database of allergies.\n",
        "    It reads the specified JSON file, which should include an 'entry' field with allergy data,\n",
        "    and counts unique patients based on the data in each entry. Returns an integer representing\n",
        "    the count of unique patients. Raises a FileNotFoundError if the file is not found, or a\n",
        "    general exception for any other errors encountered while processing the file.\n",
        "\n",
        "    Example:\n",
        "    >>> patient_count(\"allergies.json\")\n",
        "    2\n",
        "    \"\"\"\n",
        "\n",
        "    unique_patients = set()\n",
        "\n",
        "    with open(json_file, 'r') as file:\n",
        "        data = json.load(file)\n",
        "        for entry in data.get('entry', []):\n",
        "            resource = entry.get('resource', {})\n",
        "            patient = resource.get('patient', None)\n",
        "            if patient is not None:\n",
        "                # converting the patient dictionary to a tuple and add it to the set\n",
        "                unique_patients.add(tuple(patient.items()))\n",
        "\n",
        "    return len(unique_patients)\n"
      ]
    },
    {
      "cell_type": "code",
      "execution_count": 34,
      "metadata": {
        "id": "1sk0Urjpr5xt",
        "outputId": "cbe96d9f-8256-4ef6-deec-4e7de39820e9",
        "colab": {
          "base_uri": "https://localhost:8080/"
        }
      },
      "outputs": [
        {
          "output_type": "execute_result",
          "data": {
            "text/plain": [
              "2"
            ]
          },
          "metadata": {},
          "execution_count": 34
        }
      ],
      "source": [
        "patient_count(ALLERGIES_FILE)"
      ]
    },
    {
      "cell_type": "code",
      "execution_count": 35,
      "metadata": {
        "id": "HERW9tV2r5xt"
      },
      "outputs": [],
      "source": [
        "assert type(patient_count(ALLERGIES_FILE)) == int\n",
        "assert patient_count(ALLERGIES_FILE) == 2"
      ]
    },
    {
      "cell_type": "markdown",
      "metadata": {
        "id": "adde5fwLr5xt"
      },
      "source": [
        "### 30.3 How Many Allergies per Patient\n",
        "\n",
        "Although each entry is a separate allergy, several of them are for the same patient.  Write a function called `allergy_per_patient(json_file)` that counts up how many allergies each patient has.\n"
      ]
    },
    {
      "cell_type": "code",
      "execution_count": 36,
      "metadata": {
        "id": "V0Y8Physr5xu"
      },
      "outputs": [],
      "source": [
        "def allergy_per_patient(json_file):\n",
        "    \"\"\"\n",
        "    (str) -> dict\n",
        "    * json_file is the path to the JSON file containing allergy information.\n",
        "\n",
        "    This function determines how many allergies each patient has by extracting allergy data\n",
        "    from the specified JSON file. It returns a dictionary where keys represent patient names\n",
        "    and values are the counts of allergies for each patient. Raises a FileNotFoundError if\n",
        "    the file is not found, or a general exception for any other errors encountered while\n",
        "    processing the file.\n",
        "\n",
        "    Example:\n",
        "    >>> allergy_per_patient(\"allergies.json\")\n",
        "    {'Paul Boal': 1, 'Jason Argonaut': 3}\n",
        "    \"\"\"\n",
        "\n",
        "    patient_allergy_counts = {}\n",
        "\n",
        "    with open(json_file, 'r') as file:\n",
        "        data = json.load(file)\n",
        "        for entry in data.get('entry', []):\n",
        "            resource = entry.get('resource', {})\n",
        "            patient = resource.get('patient', None)\n",
        "            if patient is not None:\n",
        "                # Extract the patient name from the dictionary\n",
        "                patient_name = patient.get('display', None)\n",
        "                if patient_name:\n",
        "                    if patient_name in patient_allergy_counts:\n",
        "                        patient_allergy_counts[patient_name] += 1\n",
        "                    else:\n",
        "                       patient_allergy_counts[patient_name] = 1\n",
        "\n",
        "    return patient_allergy_counts\n"
      ]
    },
    {
      "cell_type": "code",
      "execution_count": 37,
      "metadata": {
        "id": "HYCJ_ec2r5xu",
        "outputId": "7bb5b538-6796-44f6-8421-1264c24ccf1b",
        "colab": {
          "base_uri": "https://localhost:8080/"
        }
      },
      "outputs": [
        {
          "output_type": "execute_result",
          "data": {
            "text/plain": [
              "{'Jason Argonaut': 3, 'Paul Boal': 1}"
            ]
          },
          "metadata": {},
          "execution_count": 37
        }
      ],
      "source": [
        "allergy_per_patient(ALLERGIES_FILE)"
      ]
    },
    {
      "cell_type": "code",
      "execution_count": 38,
      "metadata": {
        "id": "0Da1_I8Lr5xu"
      },
      "outputs": [],
      "source": [
        "assert type(allergy_per_patient(ALLERGIES_FILE)) == dict\n",
        "assert allergy_per_patient(ALLERGIES_FILE) == {'Paul Boal': 1, 'Jason Argonaut': 3}"
      ]
    },
    {
      "cell_type": "markdown",
      "metadata": {
        "nbgrader": {
          "grade": false,
          "grade_id": "q2-question",
          "locked": true,
          "schema_version": 1,
          "solution": false
        },
        "id": "zY4Tbd9dr5xu"
      },
      "source": [
        "### 30.4 Patient Allergies and Reaction\n",
        "\n",
        "You'll see in the file that each of the items in the `entry` list have several other attributes including a patient name, substance text representation, and a reaction manifestation.  Create a function named `allergy_list(json_file)` that will create an output list that has patient name, allergy, and reaction for each `entry`.  The actual result you should get will be:\n",
        "\n",
        "```python\n",
        "[['Jason Argonaut', 'PENICILLIN G', 'Hives'],\n",
        " ['Paul Boal', 'PENICILLIN G', 'Bruising'],\n",
        " ['Jason Argonaut', 'SHELLFISH-DERIVED PRODUCTS', 'Itching'],\n",
        " ['Jason Argonaut', 'STRAWBERRY', 'Anaphylaxis']]\n",
        "```\n",
        "\n",
        "You'll notice that the reaction and the manifestation of that action are lists.  You only need to capture the first reaction and the first manifestation of the action.  That is, if there is a list of things, just output the first one."
      ]
    },
    {
      "cell_type": "code",
      "execution_count": 39,
      "metadata": {
        "nbgrader": {
          "grade": false,
          "grade_id": "q2-answer",
          "locked": false,
          "schema_version": 1,
          "solution": true
        },
        "id": "PxECjG1Ar5xu"
      },
      "outputs": [],
      "source": [
        "def allergy_list(json_file):\n",
        "    \"\"\"\n",
        "    (str) -> list\n",
        "    * json_file is the path to a JSON file containing allergy data.\n",
        "\n",
        "    This function creates a formatted list by extracting allergies from the specified JSON file.\n",
        "    It returns a list of lists, where each inner list contains details of an allergy, including\n",
        "    the patient name, allergy substance, and the first reaction text. Raises a FileNotFoundError\n",
        "    if the file is not found, or a general exception for any other issues encountered while\n",
        "    processing the file.\n",
        "\n",
        "    Example:\n",
        "        >>> allergy_list(\"allergies.json\")\n",
        "        [['Jason Argonaut', 'PENICILLIN G', 'Hives'],\n",
        "         ['Jason Argonaut', 'SHELLFISH-DERIVED PRODUCTS', 'Itching'],\n",
        "         ['Jason Argonaut', 'STRAWBERRY', 'Anaphylaxis'],\n",
        "         ['Paul Boal', 'PENICILLIN G', 'Bruising']]\n",
        "\n",
        "    \"\"\"\n",
        "    result = []\n",
        "\n",
        "    with open(json_file, 'r') as file:\n",
        "        data = json.load(file)\n",
        "        for entry in data.get('entry', []):\n",
        "            resource = entry.get('resource', {})\n",
        "\n",
        "            # Extract patient name\n",
        "            patient_name = resource.get('patient', {}).get('display', None)\n",
        "\n",
        "            # Extract allergy substance\n",
        "            substance = resource.get('substance', {}).get('text', None)\n",
        "\n",
        "            # If available, extract the text from the first reaction.\n",
        "            reactions = resource.get('reaction', [])\n",
        "            reaction_text = reactions[0].get('manifestation', [{}])[0].get('text', None) if reactions else None\n",
        "\n",
        "            if patient_name and substance and reaction_text:\n",
        "                result.append([patient_name, substance, reaction_text])\n",
        "\n",
        "    # Sort the list of outcomes by patient name.\n",
        "    result.sort(key=lambda x: x[0])\n",
        "\n",
        "    return result\n"
      ]
    },
    {
      "cell_type": "code",
      "execution_count": 40,
      "metadata": {
        "id": "9Xt2tgMRr5xu",
        "outputId": "6fb2e381-35ea-4eb9-881f-59c2d770e5a8",
        "colab": {
          "base_uri": "https://localhost:8080/"
        }
      },
      "outputs": [
        {
          "output_type": "execute_result",
          "data": {
            "text/plain": [
              "[['Jason Argonaut', 'PENICILLIN G', 'Hives'],\n",
              " ['Jason Argonaut', 'SHELLFISH-DERIVED PRODUCTS', 'Itching'],\n",
              " ['Jason Argonaut', 'STRAWBERRY', 'Anaphylaxis'],\n",
              " ['Paul Boal', 'PENICILLIN G', 'Bruising']]"
            ]
          },
          "metadata": {},
          "execution_count": 40
        }
      ],
      "source": [
        "allergy_list(ALLERGIES_FILE)"
      ]
    },
    {
      "cell_type": "code",
      "execution_count": 41,
      "metadata": {
        "nbgrader": {
          "grade": true,
          "grade_id": "q2-tests",
          "locked": true,
          "points": 10,
          "schema_version": 1,
          "solution": false
        },
        "id": "YyLykb4lr5xu"
      },
      "outputs": [],
      "source": [
        "assert allergy_list(ALLERGIES_FILE) == [['Jason Argonaut', 'PENICILLIN G', 'Hives'],\n",
        " ['Jason Argonaut', 'SHELLFISH-DERIVED PRODUCTS', 'Itching'],\n",
        " ['Jason Argonaut', 'STRAWBERRY', 'Anaphylaxis'],\n",
        " ['Paul Boal', 'PENICILLIN G', 'Bruising']]\n"
      ]
    },
    {
      "cell_type": "markdown",
      "metadata": {
        "nbgrader": {
          "grade": false,
          "grade_id": "q3-question",
          "locked": true,
          "schema_version": 1,
          "solution": false
        },
        "id": "AQddYcxwr5xu"
      },
      "source": [
        "### 30.5 Allergy Reaction\n",
        "\n",
        "Write a function called `allergy_reaction(json_file,patient,substance)` that takes three parameter and returns the reaction that will happen if the patient takes the specified substance.  You can solve this, in part, by calling your `allergy_list` function inside your new `allergy_reaction` function.\n",
        "\n",
        "If the substance is not found in the allergy list, the function should return None."
      ]
    },
    {
      "cell_type": "code",
      "execution_count": 42,
      "metadata": {
        "nbgrader": {
          "grade": false,
          "grade_id": "q3-answer",
          "locked": false,
          "schema_version": 1,
          "solution": true
        },
        "id": "KMMcIyrHr5xu"
      },
      "outputs": [],
      "source": [
        "def allergy_reaction(json_file, patient, substance):\n",
        "    \"\"\"\n",
        "    (str, str, str) -> str or None\n",
        "    * json_file is the path to a JSON file containing allergy data.\n",
        "    * patient is the name of the patient for whom the reaction is being sought.\n",
        "    * substance is the name of the allergen or substance that causes the reaction.\n",
        "\n",
        "    This function retrieves the reaction related to a specified substance for a given patient.\n",
        "    It returns the reaction as a string if the substance is found, or None if the substance\n",
        "    is not listed in the allergy data for that patient. Raises a FileNotFoundError if the file\n",
        "    is not found, or a general exception for any other issues encountered while processing the file.\n",
        "\n",
        "    Example:\n",
        "    >>> allergy_reaction(\"allergies.json\", \"Jason Argonaut\", \"PENICILLIN G\")\n",
        "    'Hives'\n",
        "    \"\"\"\n",
        "\n",
        "    allergies_and_reactions = allergy_list(json_file)\n",
        "\n",
        "    # Search for the specified substance for the given patient\n",
        "    for entry in allergies_and_reactions:\n",
        "        if entry[0] == patient and entry[1] == substance:\n",
        "            return entry[2]\n",
        "\n",
        "    # Return None if the substance is not on the allergy list.\n",
        "    return None\n"
      ]
    },
    {
      "cell_type": "code",
      "execution_count": 43,
      "metadata": {
        "id": "zhOEg_Fer5xu",
        "outputId": "9fdc8444-6769-477c-fb97-5da796ca4e4c",
        "colab": {
          "base_uri": "https://localhost:8080/",
          "height": 36
        }
      },
      "outputs": [
        {
          "output_type": "execute_result",
          "data": {
            "text/plain": [
              "'Hives'"
            ],
            "application/vnd.google.colaboratory.intrinsic+json": {
              "type": "string"
            }
          },
          "metadata": {},
          "execution_count": 43
        }
      ],
      "source": [
        "allergy_reaction(ALLERGIES_FILE, 'Jason Argonaut', 'PENICILLIN G')"
      ]
    },
    {
      "cell_type": "code",
      "execution_count": 44,
      "metadata": {
        "nbgrader": {
          "grade": true,
          "grade_id": "q3-tests",
          "locked": true,
          "points": 5,
          "schema_version": 1,
          "solution": false
        },
        "id": "Ebi6VnDFr5xu"
      },
      "outputs": [],
      "source": [
        "assert allergy_reaction(ALLERGIES_FILE, 'Jason Argonaut', 'PENICILLIN G') == 'Hives'\n",
        "assert allergy_reaction(ALLERGIES_FILE, 'Jason Argonaut', 'SHELLFISH-DERIVED PRODUCTS') == 'Itching'\n",
        "assert allergy_reaction(ALLERGIES_FILE, 'Jason Argonaut', 'STRAWBERRY') == 'Anaphylaxis'\n",
        "assert allergy_reaction(ALLERGIES_FILE, 'Jason Argonaut', 'PENICILLIN') == None\n",
        "assert allergy_reaction(ALLERGIES_FILE, 'Paul Boal', 'PENICILLIN G') == 'Bruising'"
      ]
    },
    {
      "cell_type": "markdown",
      "metadata": {
        "id": "vdeTwQR4r5xu"
      },
      "source": [
        "---\n",
        "\n",
        "## Check your work above\n",
        "\n",
        "If you didn't get them all correct, take a few minutes to think through those that aren't correct.\n",
        "\n",
        "\n",
        "## Submitting Your Work\n",
        "\n",
        "In order to submit your work, you'll need to save this notebook file back to GitHub.  To do that in Google Colab:\n",
        "1. File -> Save a Copy in GitHub\n",
        "2. Make sure your HDS5210 repository is selected\n",
        "3. Make sure the file name includes the week number like this: `week06/week06_assignment_2.ipynb`\n",
        "4. Add a commit message that means something\n",
        "\n",
        "**Be sure week names are lowercase and use a two digit week number!!**\n",
        "\n",
        "**Be sure you use the same file name provided by the instructor!!**\n",
        "\n"
      ]
    }
  ],
  "metadata": {
    "celltoolbar": "Create Assignment",
    "kernelspec": {
      "display_name": "Python 3",
      "language": "python",
      "name": "python3"
    },
    "language_info": {
      "codemirror_mode": {
        "name": "ipython",
        "version": 3
      },
      "file_extension": ".py",
      "mimetype": "text/x-python",
      "name": "python",
      "nbconvert_exporter": "python",
      "pygments_lexer": "ipython3",
      "version": "3.9.6"
    },
    "colab": {
      "provenance": []
    }
  },
  "nbformat": 4,
  "nbformat_minor": 0
}