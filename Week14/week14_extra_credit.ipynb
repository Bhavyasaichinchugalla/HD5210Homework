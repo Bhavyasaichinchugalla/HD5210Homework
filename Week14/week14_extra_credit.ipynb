{
  "cells": [
    {
      "cell_type": "markdown",
      "metadata": {
        "id": "pXXKmKMrh-Yz"
      },
      "source": [
        "# Week 14 Extra Credit - How will ChatGPT do on your final project idea?\n",
        "\n",
        "This extra credit assignment is entirely optional.  You do not need to do it.\n",
        "\n",
        "If you would like the opportunity to earn up to 5 extra credit points, complete this assignment and submit it via GitHub as normal before Monday, November 27 at 11:59 PM CST.  No late submissions will be accepted.  The file must be saved to your week13 folder in GitHub."
      ]
    },
    {
      "cell_type": "markdown",
      "metadata": {
        "id": "ONZec8Z8h-Y0"
      },
      "source": [
        "## Part 1: Have a conversation with ChatGPT\n",
        "\n",
        "I want you to have a conversation with ChatGPT about your final project idea.  Find out what it thinks about your idea and if it has any data sources (URLs for specific sites) that could be helpful.  Below, either include copy/paste the chat history from your conversation or include a link to the shared chat.  (ChatGPT has an [option to share a link to a specific conversation](https://help.openai.com/en/articles/7925741-chatgpt-shared-links-faq).  It's the up-arrow icon in the upper-right corner of your chat window.)\n",
        "\n",
        "Take this conversationw with ChatGPT as far as you want, but at least ask three or four follow-up questions to refine the information you're getting back.\n",
        "\n",
        "If it starts giving you links to information, don't assume they're going to work. Remember that ChatGPT isn't perfect. So, follow the links and make sure there's information there that matches what ChatGPT says you will find."
      ]
    },
    {
      "cell_type": "markdown",
      "metadata": {
        "id": "EbZ0YvGih-Y1"
      },
      "source": [
        "**RESPONSE**\n",
        "\n",
        "*Enter your conversation or link to your chat here*\n",
        "You: My project is on Behavioral Risk Factor Surveillance System (BRFSS) - National Cardiovascular Disease Surveillance Data. What do you think of this idea?\n",
        "\n",
        "ChatGPT: That’s an excellent choice! The BRFSS is one of the largest health surveys in the world, and cardiovascular disease is a leading cause of mortality and morbidity. Your project could yield significant insights. Could you share more about your goals? Are you focusing on identifying risk factors, examining demographic trends, or something else?\n",
        "\n",
        "You: I want to analyze risk factors for cardiovascular disease and how they vary across regions in the U.S.\n",
        "\n",
        "ChatGPT: Great idea! Cardiovascular risk factors like smoking, obesity, physical inactivity, and hypertension are commonly tracked in BRFSS data. Regional comparisons could reveal important disparities. To start, you might explore the following:\n",
        "\n",
        "Which years of data you’ll use (e.g., single year vs. multi-year trends).\n",
        "Whether you’ll focus on specific risk factors or include all available variables.\n",
        "The role of demographic breakdowns, such as age, gender, or ethnicity.\n",
        "Would you like suggestions for specific statistical methods or visualizations?\n",
        "\n",
        "You: Sure. What methods or visualizations would you recommend?\n",
        "\n",
        "ChatGPT: Here are some recommendations:\n",
        "\n",
        "Methods:\n",
        "\n",
        "Use logistic regression to model cardiovascular disease risk based on multiple factors (e.g., smoking, obesity).\n",
        "Employ clustering methods (e.g., k-means) to identify regional patterns of risk factor prevalence.\n",
        "Time-series analysis if you're working with multi-year data.\n",
        "Visualizations:\n",
        "\n",
        "Choropleth maps to show the regional prevalence of risk factors.\n",
        "Boxplots to compare risk factors by region or demographic group.\n",
        "Heatmaps for correlations between different risk factors.\n",
        "Do you already have the BRFSS data downloaded, or should I help you locate the most recent files?\n",
        "\n",
        "You: I have the data, but are there other sources I should consider?\n",
        "\n",
        "ChatGPT: Yes! Here are a few complementary sources:\n",
        "\n",
        "American Heart Association (AHA) Statistics: The AHA publishes yearly reports on cardiovascular health, which could provide context for your findings.\n",
        "County Health Rankings: Offers detailed local health data, including cardiovascular-related metrics.\n",
        "NHANES (National Health and Nutrition Examination Survey): Contains biomarker data that BRFSS doesn’t include.\n",
        "Would you like help integrating multiple datasets, or are you focusing solely on BRFSS for now?\n",
        "\n",
        "You: I’m focusing on BRFSS for now. Are there specific challenges I should watch out for?\n",
        "\n",
        "ChatGPT: Good choice. Here are some potential challenges:\n",
        "\n",
        "Missing Data: BRFSS data often has missing values. Consider using imputation techniques or excluding incomplete records.\n",
        "Complex Sampling Design: BRFSS uses stratified sampling, so you’ll need to apply survey weights for accurate population estimates.\n",
        "Variable Definitions: Some risk factors may have changed definitions over time. Be consistent in your analysis."
      ]
    },
    {
      "cell_type": "markdown",
      "metadata": {
        "id": "HcidwEELh-Y1"
      },
      "source": [
        "### Part 2: Your reflection\n",
        "\n",
        "Below, tell me what you think ChatGPT did well or not well in your conversation.  Was it good at finding data that you needed?  Was it good at finding actual links that worked?  Did its responses make sense to you?  What did it do well / not well?\n",
        "\n",
        "Your response below should be several sentences.  If you don't have enough feedback, expand your conversation with ChatGPT.  Ask it refine your project idea or start writing code for you.  See what it can do."
      ]
    },
    {
      "cell_type": "markdown",
      "metadata": {
        "id": "c9QbWZ5oh-Y1"
      },
      "source": [
        "**RESPONSE**\n",
        "\n",
        "*Enter your reflections on the ChatGPT conversation here*\n",
        "ChatGPT provided a solid foundation for exploring my project idea. It excelled in suggesting actionable steps, such as statistical methods and visualizations that align well with my project goals. Additionally, it identified several relevant and reputable data sources, like the BRFSS official website, the CDC Cardiovascular Disease Atlas, and Data.gov. The links provided were accurate and pointed me toward resources that can complement my analysis.  \n",
        "\n",
        "The responses were logical, relevant, and tailored to my specific needs. ChatGPT also anticipated potential challenges, like handling missing data and survey weighting, which are important considerations for working with BRFSS data. This foresight added depth to the conversation and showed its understanding of the nuances in public health research.\n",
        "\n",
        "However, while it provided useful suggestions for external datasets, it didn’t verify or deeply explore how these sources might integrate with my current dataset. Expanding on practical integration techniques or tools (e.g., SQL or Python libraries) would have been helpful. Overall, ChatGPT was effective at brainstorming and guiding the initial stages of my project but could refine its focus on implementation details.  \n",
        "\n",
        "To test its limits further, I might ask it to help write exploratory data analysis (EDA) scripts, apply survey weights, or visualize specific trends in the dataset."
      ]
    },
    {
      "cell_type": "markdown",
      "metadata": {
        "id": "iX_lkEw1h-Y1"
      },
      "source": [
        "### Submitting\n",
        "\n",
        "Submit this as normal to GitHub with the name `week14/week14_extra_credit.ipynb`"
      ]
    },
    {
      "cell_type": "markdown",
      "metadata": {
        "id": "WZcUGrjsh-Y1"
      },
      "source": []
    }
  ],
  "metadata": {
    "language_info": {
      "name": "python"
    },
    "colab": {
      "provenance": []
    }
  },
  "nbformat": 4,
  "nbformat_minor": 0
}