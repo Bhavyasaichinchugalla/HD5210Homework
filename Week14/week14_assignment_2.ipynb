{
  "cells": [
    {
      "cell_type": "markdown",
      "metadata": {
        "nbgrader": {
          "grade": false,
          "grade_id": "cell-fc1c39d0d6f8b82a",
          "locked": true,
          "schema_version": 1,
          "solution": false
        },
        "id": "eXXLvotJ10HC"
      },
      "source": [
        "# Week 14 Programming Assignment\n",
        "\n",
        "As you're working on identifying data for your final project, it's helpful to spend some time exploring your various data files.  For this week's assignment, I'd like you to take a few of the ideas from the the lectures, review assignment, and tonight's lecture to start exploring the data you plan to use for the final project.\n",
        "\n",
        "For the following activities, you can use just one of the data files that you've identified, or you can do the activities using different data files.  That's up to you.  Please describe what you're doing in a Markdown cell or in the comments of your code.  When you've completed the assignment, submit it as normal."
      ]
    },
    {
      "cell_type": "markdown",
      "metadata": {
        "id": "nq6-rPwU10HD"
      },
      "source": [
        "### 1. Basic Statistics\n",
        "\n",
        "Use Python to read in your data file and show many rows and columns your data has."
      ]
    },
    {
      "cell_type": "code",
      "execution_count": 21,
      "metadata": {
        "id": "l0RIlV-910HD",
        "outputId": "8dcb2e21-0be0-4a7a-c1ca-57d5073c474a",
        "colab": {
          "base_uri": "https://localhost:8080/",
          "height": 463
        }
      },
      "outputs": [
        {
          "output_type": "stream",
          "name": "stderr",
          "text": [
            "<ipython-input-21-a1d6f1faaad1>:2: DtypeWarning: Columns (5) have mixed types. Specify dtype option on import or set low_memory=False.\n",
            "  data = pd.read_csv('/content/Behavioral_Risk_Factor_Surveillance_System__BRFSS__-__National_Cardiovascular_Disease_Surveillance_Data.csv')\n"
          ]
        },
        {
          "output_type": "execute_result",
          "data": {
            "text/plain": [
              "                                        RowId  YearStart LocationAbbr  \\\n",
              "0  BRFSS~2011~01~BR001~OVR01~Age-Standardized       2011           AL   \n",
              "1             BRFSS~2011~01~BR001~OVR01~Crude       2011           AL   \n",
              "2             BRFSS~2011~01~BR001~GEN01~Crude       2011           AL   \n",
              "3  BRFSS~2011~01~BR001~GEN01~Age-Standardized       2011           AL   \n",
              "4  BRFSS~2011~01~BR001~GEN02~Age-Standardized       2011           AL   \n",
              "\n",
              "  LocationDesc DataSource PriorityArea1  PriorityArea2 PriorityArea3  \\\n",
              "0      Alabama      BRFSS           NaN            NaN           NaN   \n",
              "1      Alabama      BRFSS           NaN            NaN           NaN   \n",
              "2      Alabama      BRFSS           NaN            NaN           NaN   \n",
              "3      Alabama      BRFSS           NaN            NaN           NaN   \n",
              "4      Alabama      BRFSS           NaN            NaN           NaN   \n",
              "\n",
              "   PriorityArea4                    Class  ... Break_Out_Category Break_Out  \\\n",
              "0            NaN  Cardiovascular Diseases  ...            Overall   Overall   \n",
              "1            NaN  Cardiovascular Diseases  ...            Overall   Overall   \n",
              "2            NaN  Cardiovascular Diseases  ...             Gender      Male   \n",
              "3            NaN  Cardiovascular Diseases  ...             Gender      Male   \n",
              "4            NaN  Cardiovascular Diseases  ...             Gender    Female   \n",
              "\n",
              "  ClassId TopicId  QuestionId  Data_Value_TypeID BreakOutCategoryId  \\\n",
              "0      C1      T1       BR001            AgeStdz              BOC01   \n",
              "1      C1      T1       BR001              Crude              BOC01   \n",
              "2      C1      T1       BR001              Crude              BOC02   \n",
              "3      C1      T1       BR001            AgeStdz              BOC02   \n",
              "4      C1      T1       BR001            AgeStdz              BOC02   \n",
              "\n",
              "  BreakOutId  LocationId                                   Geolocation  \n",
              "0      OVR01           1  POINT (-86.63186076199969 32.84057112200048)  \n",
              "1      OVR01           1  POINT (-86.63186076199969 32.84057112200048)  \n",
              "2      GEN01           1  POINT (-86.63186076199969 32.84057112200048)  \n",
              "3      GEN01           1  POINT (-86.63186076199969 32.84057112200048)  \n",
              "4      GEN02           1  POINT (-86.63186076199969 32.84057112200048)  \n",
              "\n",
              "[5 rows x 30 columns]"
            ],
            "text/html": [
              "\n",
              "  <div id=\"df-60f804a7-e524-4afb-a178-385a64194370\" class=\"colab-df-container\">\n",
              "    <div>\n",
              "<style scoped>\n",
              "    .dataframe tbody tr th:only-of-type {\n",
              "        vertical-align: middle;\n",
              "    }\n",
              "\n",
              "    .dataframe tbody tr th {\n",
              "        vertical-align: top;\n",
              "    }\n",
              "\n",
              "    .dataframe thead th {\n",
              "        text-align: right;\n",
              "    }\n",
              "</style>\n",
              "<table border=\"1\" class=\"dataframe\">\n",
              "  <thead>\n",
              "    <tr style=\"text-align: right;\">\n",
              "      <th></th>\n",
              "      <th>RowId</th>\n",
              "      <th>YearStart</th>\n",
              "      <th>LocationAbbr</th>\n",
              "      <th>LocationDesc</th>\n",
              "      <th>DataSource</th>\n",
              "      <th>PriorityArea1</th>\n",
              "      <th>PriorityArea2</th>\n",
              "      <th>PriorityArea3</th>\n",
              "      <th>PriorityArea4</th>\n",
              "      <th>Class</th>\n",
              "      <th>...</th>\n",
              "      <th>Break_Out_Category</th>\n",
              "      <th>Break_Out</th>\n",
              "      <th>ClassId</th>\n",
              "      <th>TopicId</th>\n",
              "      <th>QuestionId</th>\n",
              "      <th>Data_Value_TypeID</th>\n",
              "      <th>BreakOutCategoryId</th>\n",
              "      <th>BreakOutId</th>\n",
              "      <th>LocationId</th>\n",
              "      <th>Geolocation</th>\n",
              "    </tr>\n",
              "  </thead>\n",
              "  <tbody>\n",
              "    <tr>\n",
              "      <th>0</th>\n",
              "      <td>BRFSS~2011~01~BR001~OVR01~Age-Standardized</td>\n",
              "      <td>2011</td>\n",
              "      <td>AL</td>\n",
              "      <td>Alabama</td>\n",
              "      <td>BRFSS</td>\n",
              "      <td>NaN</td>\n",
              "      <td>NaN</td>\n",
              "      <td>NaN</td>\n",
              "      <td>NaN</td>\n",
              "      <td>Cardiovascular Diseases</td>\n",
              "      <td>...</td>\n",
              "      <td>Overall</td>\n",
              "      <td>Overall</td>\n",
              "      <td>C1</td>\n",
              "      <td>T1</td>\n",
              "      <td>BR001</td>\n",
              "      <td>AgeStdz</td>\n",
              "      <td>BOC01</td>\n",
              "      <td>OVR01</td>\n",
              "      <td>1</td>\n",
              "      <td>POINT (-86.63186076199969 32.84057112200048)</td>\n",
              "    </tr>\n",
              "    <tr>\n",
              "      <th>1</th>\n",
              "      <td>BRFSS~2011~01~BR001~OVR01~Crude</td>\n",
              "      <td>2011</td>\n",
              "      <td>AL</td>\n",
              "      <td>Alabama</td>\n",
              "      <td>BRFSS</td>\n",
              "      <td>NaN</td>\n",
              "      <td>NaN</td>\n",
              "      <td>NaN</td>\n",
              "      <td>NaN</td>\n",
              "      <td>Cardiovascular Diseases</td>\n",
              "      <td>...</td>\n",
              "      <td>Overall</td>\n",
              "      <td>Overall</td>\n",
              "      <td>C1</td>\n",
              "      <td>T1</td>\n",
              "      <td>BR001</td>\n",
              "      <td>Crude</td>\n",
              "      <td>BOC01</td>\n",
              "      <td>OVR01</td>\n",
              "      <td>1</td>\n",
              "      <td>POINT (-86.63186076199969 32.84057112200048)</td>\n",
              "    </tr>\n",
              "    <tr>\n",
              "      <th>2</th>\n",
              "      <td>BRFSS~2011~01~BR001~GEN01~Crude</td>\n",
              "      <td>2011</td>\n",
              "      <td>AL</td>\n",
              "      <td>Alabama</td>\n",
              "      <td>BRFSS</td>\n",
              "      <td>NaN</td>\n",
              "      <td>NaN</td>\n",
              "      <td>NaN</td>\n",
              "      <td>NaN</td>\n",
              "      <td>Cardiovascular Diseases</td>\n",
              "      <td>...</td>\n",
              "      <td>Gender</td>\n",
              "      <td>Male</td>\n",
              "      <td>C1</td>\n",
              "      <td>T1</td>\n",
              "      <td>BR001</td>\n",
              "      <td>Crude</td>\n",
              "      <td>BOC02</td>\n",
              "      <td>GEN01</td>\n",
              "      <td>1</td>\n",
              "      <td>POINT (-86.63186076199969 32.84057112200048)</td>\n",
              "    </tr>\n",
              "    <tr>\n",
              "      <th>3</th>\n",
              "      <td>BRFSS~2011~01~BR001~GEN01~Age-Standardized</td>\n",
              "      <td>2011</td>\n",
              "      <td>AL</td>\n",
              "      <td>Alabama</td>\n",
              "      <td>BRFSS</td>\n",
              "      <td>NaN</td>\n",
              "      <td>NaN</td>\n",
              "      <td>NaN</td>\n",
              "      <td>NaN</td>\n",
              "      <td>Cardiovascular Diseases</td>\n",
              "      <td>...</td>\n",
              "      <td>Gender</td>\n",
              "      <td>Male</td>\n",
              "      <td>C1</td>\n",
              "      <td>T1</td>\n",
              "      <td>BR001</td>\n",
              "      <td>AgeStdz</td>\n",
              "      <td>BOC02</td>\n",
              "      <td>GEN01</td>\n",
              "      <td>1</td>\n",
              "      <td>POINT (-86.63186076199969 32.84057112200048)</td>\n",
              "    </tr>\n",
              "    <tr>\n",
              "      <th>4</th>\n",
              "      <td>BRFSS~2011~01~BR001~GEN02~Age-Standardized</td>\n",
              "      <td>2011</td>\n",
              "      <td>AL</td>\n",
              "      <td>Alabama</td>\n",
              "      <td>BRFSS</td>\n",
              "      <td>NaN</td>\n",
              "      <td>NaN</td>\n",
              "      <td>NaN</td>\n",
              "      <td>NaN</td>\n",
              "      <td>Cardiovascular Diseases</td>\n",
              "      <td>...</td>\n",
              "      <td>Gender</td>\n",
              "      <td>Female</td>\n",
              "      <td>C1</td>\n",
              "      <td>T1</td>\n",
              "      <td>BR001</td>\n",
              "      <td>AgeStdz</td>\n",
              "      <td>BOC02</td>\n",
              "      <td>GEN02</td>\n",
              "      <td>1</td>\n",
              "      <td>POINT (-86.63186076199969 32.84057112200048)</td>\n",
              "    </tr>\n",
              "  </tbody>\n",
              "</table>\n",
              "<p>5 rows × 30 columns</p>\n",
              "</div>\n",
              "    <div class=\"colab-df-buttons\">\n",
              "\n",
              "  <div class=\"colab-df-container\">\n",
              "    <button class=\"colab-df-convert\" onclick=\"convertToInteractive('df-60f804a7-e524-4afb-a178-385a64194370')\"\n",
              "            title=\"Convert this dataframe to an interactive table.\"\n",
              "            style=\"display:none;\">\n",
              "\n",
              "  <svg xmlns=\"http://www.w3.org/2000/svg\" height=\"24px\" viewBox=\"0 -960 960 960\">\n",
              "    <path d=\"M120-120v-720h720v720H120Zm60-500h600v-160H180v160Zm220 220h160v-160H400v160Zm0 220h160v-160H400v160ZM180-400h160v-160H180v160Zm440 0h160v-160H620v160ZM180-180h160v-160H180v160Zm440 0h160v-160H620v160Z\"/>\n",
              "  </svg>\n",
              "    </button>\n",
              "\n",
              "  <style>\n",
              "    .colab-df-container {\n",
              "      display:flex;\n",
              "      gap: 12px;\n",
              "    }\n",
              "\n",
              "    .colab-df-convert {\n",
              "      background-color: #E8F0FE;\n",
              "      border: none;\n",
              "      border-radius: 50%;\n",
              "      cursor: pointer;\n",
              "      display: none;\n",
              "      fill: #1967D2;\n",
              "      height: 32px;\n",
              "      padding: 0 0 0 0;\n",
              "      width: 32px;\n",
              "    }\n",
              "\n",
              "    .colab-df-convert:hover {\n",
              "      background-color: #E2EBFA;\n",
              "      box-shadow: 0px 1px 2px rgba(60, 64, 67, 0.3), 0px 1px 3px 1px rgba(60, 64, 67, 0.15);\n",
              "      fill: #174EA6;\n",
              "    }\n",
              "\n",
              "    .colab-df-buttons div {\n",
              "      margin-bottom: 4px;\n",
              "    }\n",
              "\n",
              "    [theme=dark] .colab-df-convert {\n",
              "      background-color: #3B4455;\n",
              "      fill: #D2E3FC;\n",
              "    }\n",
              "\n",
              "    [theme=dark] .colab-df-convert:hover {\n",
              "      background-color: #434B5C;\n",
              "      box-shadow: 0px 1px 3px 1px rgba(0, 0, 0, 0.15);\n",
              "      filter: drop-shadow(0px 1px 2px rgba(0, 0, 0, 0.3));\n",
              "      fill: #FFFFFF;\n",
              "    }\n",
              "  </style>\n",
              "\n",
              "    <script>\n",
              "      const buttonEl =\n",
              "        document.querySelector('#df-60f804a7-e524-4afb-a178-385a64194370 button.colab-df-convert');\n",
              "      buttonEl.style.display =\n",
              "        google.colab.kernel.accessAllowed ? 'block' : 'none';\n",
              "\n",
              "      async function convertToInteractive(key) {\n",
              "        const element = document.querySelector('#df-60f804a7-e524-4afb-a178-385a64194370');\n",
              "        const dataTable =\n",
              "          await google.colab.kernel.invokeFunction('convertToInteractive',\n",
              "                                                    [key], {});\n",
              "        if (!dataTable) return;\n",
              "\n",
              "        const docLinkHtml = 'Like what you see? Visit the ' +\n",
              "          '<a target=\"_blank\" href=https://colab.research.google.com/notebooks/data_table.ipynb>data table notebook</a>'\n",
              "          + ' to learn more about interactive tables.';\n",
              "        element.innerHTML = '';\n",
              "        dataTable['output_type'] = 'display_data';\n",
              "        await google.colab.output.renderOutput(dataTable, element);\n",
              "        const docLink = document.createElement('div');\n",
              "        docLink.innerHTML = docLinkHtml;\n",
              "        element.appendChild(docLink);\n",
              "      }\n",
              "    </script>\n",
              "  </div>\n",
              "\n",
              "\n",
              "<div id=\"df-3a53bf4d-13c6-4f89-b671-8b98d7fd68f3\">\n",
              "  <button class=\"colab-df-quickchart\" onclick=\"quickchart('df-3a53bf4d-13c6-4f89-b671-8b98d7fd68f3')\"\n",
              "            title=\"Suggest charts\"\n",
              "            style=\"display:none;\">\n",
              "\n",
              "<svg xmlns=\"http://www.w3.org/2000/svg\" height=\"24px\"viewBox=\"0 0 24 24\"\n",
              "     width=\"24px\">\n",
              "    <g>\n",
              "        <path d=\"M19 3H5c-1.1 0-2 .9-2 2v14c0 1.1.9 2 2 2h14c1.1 0 2-.9 2-2V5c0-1.1-.9-2-2-2zM9 17H7v-7h2v7zm4 0h-2V7h2v10zm4 0h-2v-4h2v4z\"/>\n",
              "    </g>\n",
              "</svg>\n",
              "  </button>\n",
              "\n",
              "<style>\n",
              "  .colab-df-quickchart {\n",
              "      --bg-color: #E8F0FE;\n",
              "      --fill-color: #1967D2;\n",
              "      --hover-bg-color: #E2EBFA;\n",
              "      --hover-fill-color: #174EA6;\n",
              "      --disabled-fill-color: #AAA;\n",
              "      --disabled-bg-color: #DDD;\n",
              "  }\n",
              "\n",
              "  [theme=dark] .colab-df-quickchart {\n",
              "      --bg-color: #3B4455;\n",
              "      --fill-color: #D2E3FC;\n",
              "      --hover-bg-color: #434B5C;\n",
              "      --hover-fill-color: #FFFFFF;\n",
              "      --disabled-bg-color: #3B4455;\n",
              "      --disabled-fill-color: #666;\n",
              "  }\n",
              "\n",
              "  .colab-df-quickchart {\n",
              "    background-color: var(--bg-color);\n",
              "    border: none;\n",
              "    border-radius: 50%;\n",
              "    cursor: pointer;\n",
              "    display: none;\n",
              "    fill: var(--fill-color);\n",
              "    height: 32px;\n",
              "    padding: 0;\n",
              "    width: 32px;\n",
              "  }\n",
              "\n",
              "  .colab-df-quickchart:hover {\n",
              "    background-color: var(--hover-bg-color);\n",
              "    box-shadow: 0 1px 2px rgba(60, 64, 67, 0.3), 0 1px 3px 1px rgba(60, 64, 67, 0.15);\n",
              "    fill: var(--button-hover-fill-color);\n",
              "  }\n",
              "\n",
              "  .colab-df-quickchart-complete:disabled,\n",
              "  .colab-df-quickchart-complete:disabled:hover {\n",
              "    background-color: var(--disabled-bg-color);\n",
              "    fill: var(--disabled-fill-color);\n",
              "    box-shadow: none;\n",
              "  }\n",
              "\n",
              "  .colab-df-spinner {\n",
              "    border: 2px solid var(--fill-color);\n",
              "    border-color: transparent;\n",
              "    border-bottom-color: var(--fill-color);\n",
              "    animation:\n",
              "      spin 1s steps(1) infinite;\n",
              "  }\n",
              "\n",
              "  @keyframes spin {\n",
              "    0% {\n",
              "      border-color: transparent;\n",
              "      border-bottom-color: var(--fill-color);\n",
              "      border-left-color: var(--fill-color);\n",
              "    }\n",
              "    20% {\n",
              "      border-color: transparent;\n",
              "      border-left-color: var(--fill-color);\n",
              "      border-top-color: var(--fill-color);\n",
              "    }\n",
              "    30% {\n",
              "      border-color: transparent;\n",
              "      border-left-color: var(--fill-color);\n",
              "      border-top-color: var(--fill-color);\n",
              "      border-right-color: var(--fill-color);\n",
              "    }\n",
              "    40% {\n",
              "      border-color: transparent;\n",
              "      border-right-color: var(--fill-color);\n",
              "      border-top-color: var(--fill-color);\n",
              "    }\n",
              "    60% {\n",
              "      border-color: transparent;\n",
              "      border-right-color: var(--fill-color);\n",
              "    }\n",
              "    80% {\n",
              "      border-color: transparent;\n",
              "      border-right-color: var(--fill-color);\n",
              "      border-bottom-color: var(--fill-color);\n",
              "    }\n",
              "    90% {\n",
              "      border-color: transparent;\n",
              "      border-bottom-color: var(--fill-color);\n",
              "    }\n",
              "  }\n",
              "</style>\n",
              "\n",
              "  <script>\n",
              "    async function quickchart(key) {\n",
              "      const quickchartButtonEl =\n",
              "        document.querySelector('#' + key + ' button');\n",
              "      quickchartButtonEl.disabled = true;  // To prevent multiple clicks.\n",
              "      quickchartButtonEl.classList.add('colab-df-spinner');\n",
              "      try {\n",
              "        const charts = await google.colab.kernel.invokeFunction(\n",
              "            'suggestCharts', [key], {});\n",
              "      } catch (error) {\n",
              "        console.error('Error during call to suggestCharts:', error);\n",
              "      }\n",
              "      quickchartButtonEl.classList.remove('colab-df-spinner');\n",
              "      quickchartButtonEl.classList.add('colab-df-quickchart-complete');\n",
              "    }\n",
              "    (() => {\n",
              "      let quickchartButtonEl =\n",
              "        document.querySelector('#df-3a53bf4d-13c6-4f89-b671-8b98d7fd68f3 button');\n",
              "      quickchartButtonEl.style.display =\n",
              "        google.colab.kernel.accessAllowed ? 'block' : 'none';\n",
              "    })();\n",
              "  </script>\n",
              "</div>\n",
              "\n",
              "    </div>\n",
              "  </div>\n"
            ],
            "application/vnd.google.colaboratory.intrinsic+json": {
              "type": "dataframe",
              "variable_name": "data"
            }
          },
          "metadata": {},
          "execution_count": 21
        }
      ],
      "source": [
        "import pandas as pd\n",
        "data = pd.read_csv('/content/Behavioral_Risk_Factor_Surveillance_System__BRFSS__-__National_Cardiovascular_Disease_Surveillance_Data.csv')\n",
        "data.head()"
      ]
    },
    {
      "cell_type": "code",
      "source": [
        "data.shape"
      ],
      "metadata": {
        "id": "DpAHV3-K3TNj",
        "outputId": "f0925287-fbb0-4d1d-9661-ae7cc1445893",
        "colab": {
          "base_uri": "https://localhost:8080/"
        }
      },
      "execution_count": 22,
      "outputs": [
        {
          "output_type": "execute_result",
          "data": {
            "text/plain": [
              "(160160, 30)"
            ]
          },
          "metadata": {},
          "execution_count": 22
        }
      ]
    },
    {
      "cell_type": "code",
      "source": [
        "data.columns"
      ],
      "metadata": {
        "id": "n5qxdlSc3f5v",
        "outputId": "e73089cb-54b0-45ef-9c96-c30f68ae69ae",
        "colab": {
          "base_uri": "https://localhost:8080/"
        }
      },
      "execution_count": 23,
      "outputs": [
        {
          "output_type": "execute_result",
          "data": {
            "text/plain": [
              "Index(['RowId', 'YearStart', 'LocationAbbr', 'LocationDesc', 'DataSource',\n",
              "       'PriorityArea1', 'PriorityArea2', 'PriorityArea3', 'PriorityArea4',\n",
              "       'Class', 'Topic', 'Question', 'Data_Value_Type', 'Data_Value_Unit',\n",
              "       'Data_Value', 'Data_Value_Alt', 'Data_Value_Footnote_Symbol',\n",
              "       'Data_Value_Footnote', 'Low_Confidence_Limit', 'High_Confidence_Limit',\n",
              "       'Break_Out_Category', 'Break_Out', 'ClassId', 'TopicId', 'QuestionId',\n",
              "       'Data_Value_TypeID', 'BreakOutCategoryId', 'BreakOutId', 'LocationId',\n",
              "       'Geolocation'],\n",
              "      dtype='object')"
            ]
          },
          "metadata": {},
          "execution_count": 23
        }
      ]
    },
    {
      "cell_type": "markdown",
      "metadata": {
        "id": "pOpdjO4110HD"
      },
      "source": [
        "### 2. Data Diversity\n",
        "\n",
        "Use Python to identify how many unique values each column in your data has.  Use Python to identify which column has the greatest number of distinct values (aka the most diversity)?  If your data has a unique identifier (e.g. a person or visit or record ID) then find the column with the next most number of unique values."
      ]
    },
    {
      "cell_type": "code",
      "execution_count": 24,
      "metadata": {
        "id": "XwaSl6uc10HD",
        "outputId": "0ceaeb9b-d2d5-460f-ccec-0bc8ec0be510",
        "colab": {
          "base_uri": "https://localhost:8080/",
          "height": 1000
        }
      },
      "outputs": [
        {
          "output_type": "execute_result",
          "data": {
            "text/plain": [
              "RowId                         160160\n",
              "YearStart                         10\n",
              "LocationAbbr                      52\n",
              "LocationDesc                      52\n",
              "DataSource                         1\n",
              "PriorityArea1                      1\n",
              "PriorityArea2                      0\n",
              "PriorityArea3                      1\n",
              "PriorityArea4                      0\n",
              "Class                              2\n",
              "Topic                             11\n",
              "Question                          14\n",
              "Data_Value_Type                    2\n",
              "Data_Value_Unit                    1\n",
              "Data_Value                       994\n",
              "Data_Value_Alt                   996\n",
              "Data_Value_Footnote_Symbol         2\n",
              "Data_Value_Footnote                2\n",
              "Low_Confidence_Limit             990\n",
              "High_Confidence_Limit            993\n",
              "Break_Out_Category                 4\n",
              "Break_Out                         15\n",
              "ClassId                            2\n",
              "TopicId                           11\n",
              "QuestionId                        14\n",
              "Data_Value_TypeID                  2\n",
              "BreakOutCategoryId                 4\n",
              "BreakOutId                        15\n",
              "LocationId                        52\n",
              "Geolocation                       51\n",
              "dtype: int64"
            ],
            "text/html": [
              "<div>\n",
              "<style scoped>\n",
              "    .dataframe tbody tr th:only-of-type {\n",
              "        vertical-align: middle;\n",
              "    }\n",
              "\n",
              "    .dataframe tbody tr th {\n",
              "        vertical-align: top;\n",
              "    }\n",
              "\n",
              "    .dataframe thead th {\n",
              "        text-align: right;\n",
              "    }\n",
              "</style>\n",
              "<table border=\"1\" class=\"dataframe\">\n",
              "  <thead>\n",
              "    <tr style=\"text-align: right;\">\n",
              "      <th></th>\n",
              "      <th>0</th>\n",
              "    </tr>\n",
              "  </thead>\n",
              "  <tbody>\n",
              "    <tr>\n",
              "      <th>RowId</th>\n",
              "      <td>160160</td>\n",
              "    </tr>\n",
              "    <tr>\n",
              "      <th>YearStart</th>\n",
              "      <td>10</td>\n",
              "    </tr>\n",
              "    <tr>\n",
              "      <th>LocationAbbr</th>\n",
              "      <td>52</td>\n",
              "    </tr>\n",
              "    <tr>\n",
              "      <th>LocationDesc</th>\n",
              "      <td>52</td>\n",
              "    </tr>\n",
              "    <tr>\n",
              "      <th>DataSource</th>\n",
              "      <td>1</td>\n",
              "    </tr>\n",
              "    <tr>\n",
              "      <th>PriorityArea1</th>\n",
              "      <td>1</td>\n",
              "    </tr>\n",
              "    <tr>\n",
              "      <th>PriorityArea2</th>\n",
              "      <td>0</td>\n",
              "    </tr>\n",
              "    <tr>\n",
              "      <th>PriorityArea3</th>\n",
              "      <td>1</td>\n",
              "    </tr>\n",
              "    <tr>\n",
              "      <th>PriorityArea4</th>\n",
              "      <td>0</td>\n",
              "    </tr>\n",
              "    <tr>\n",
              "      <th>Class</th>\n",
              "      <td>2</td>\n",
              "    </tr>\n",
              "    <tr>\n",
              "      <th>Topic</th>\n",
              "      <td>11</td>\n",
              "    </tr>\n",
              "    <tr>\n",
              "      <th>Question</th>\n",
              "      <td>14</td>\n",
              "    </tr>\n",
              "    <tr>\n",
              "      <th>Data_Value_Type</th>\n",
              "      <td>2</td>\n",
              "    </tr>\n",
              "    <tr>\n",
              "      <th>Data_Value_Unit</th>\n",
              "      <td>1</td>\n",
              "    </tr>\n",
              "    <tr>\n",
              "      <th>Data_Value</th>\n",
              "      <td>994</td>\n",
              "    </tr>\n",
              "    <tr>\n",
              "      <th>Data_Value_Alt</th>\n",
              "      <td>996</td>\n",
              "    </tr>\n",
              "    <tr>\n",
              "      <th>Data_Value_Footnote_Symbol</th>\n",
              "      <td>2</td>\n",
              "    </tr>\n",
              "    <tr>\n",
              "      <th>Data_Value_Footnote</th>\n",
              "      <td>2</td>\n",
              "    </tr>\n",
              "    <tr>\n",
              "      <th>Low_Confidence_Limit</th>\n",
              "      <td>990</td>\n",
              "    </tr>\n",
              "    <tr>\n",
              "      <th>High_Confidence_Limit</th>\n",
              "      <td>993</td>\n",
              "    </tr>\n",
              "    <tr>\n",
              "      <th>Break_Out_Category</th>\n",
              "      <td>4</td>\n",
              "    </tr>\n",
              "    <tr>\n",
              "      <th>Break_Out</th>\n",
              "      <td>15</td>\n",
              "    </tr>\n",
              "    <tr>\n",
              "      <th>ClassId</th>\n",
              "      <td>2</td>\n",
              "    </tr>\n",
              "    <tr>\n",
              "      <th>TopicId</th>\n",
              "      <td>11</td>\n",
              "    </tr>\n",
              "    <tr>\n",
              "      <th>QuestionId</th>\n",
              "      <td>14</td>\n",
              "    </tr>\n",
              "    <tr>\n",
              "      <th>Data_Value_TypeID</th>\n",
              "      <td>2</td>\n",
              "    </tr>\n",
              "    <tr>\n",
              "      <th>BreakOutCategoryId</th>\n",
              "      <td>4</td>\n",
              "    </tr>\n",
              "    <tr>\n",
              "      <th>BreakOutId</th>\n",
              "      <td>15</td>\n",
              "    </tr>\n",
              "    <tr>\n",
              "      <th>LocationId</th>\n",
              "      <td>52</td>\n",
              "    </tr>\n",
              "    <tr>\n",
              "      <th>Geolocation</th>\n",
              "      <td>51</td>\n",
              "    </tr>\n",
              "  </tbody>\n",
              "</table>\n",
              "</div><br><label><b>dtype:</b> int64</label>"
            ]
          },
          "metadata": {},
          "execution_count": 24
        }
      ],
      "source": [
        "unique_values = data.nunique()\n",
        "unique_values"
      ]
    },
    {
      "cell_type": "code",
      "source": [
        "# Identify the column with the greatest number of unique values\n",
        "most_diverse_column = unique_values.idxmax()\n",
        "most_diverse_count = unique_values.max()\n",
        "most_diverse_column\n",
        "most_diverse_count\n"
      ],
      "metadata": {
        "id": "GZCsdqq44D1V",
        "outputId": "c44e8886-0080-4560-cd3f-bd433500f3f0",
        "colab": {
          "base_uri": "https://localhost:8080/"
        }
      },
      "execution_count": 25,
      "outputs": [
        {
          "output_type": "execute_result",
          "data": {
            "text/plain": [
              "160160"
            ]
          },
          "metadata": {},
          "execution_count": 25
        }
      ]
    },
    {
      "cell_type": "markdown",
      "metadata": {
        "id": "au2vwaqO10HD"
      },
      "source": [
        "### 3. Data Redundancy\n",
        "\n",
        "Use Python to identify any columns in your data where the value for every row is the same.  For example, if you had a gender column and all the rows said 'M', then you would want to write the code that helped you determine that."
      ]
    },
    {
      "cell_type": "code",
      "execution_count": 26,
      "metadata": {
        "id": "7LZKTFEg10HE",
        "outputId": "59ac8d8e-7c44-4fd8-8396-f4f46a675d6f",
        "colab": {
          "base_uri": "https://localhost:8080/"
        }
      },
      "outputs": [
        {
          "output_type": "stream",
          "name": "stdout",
          "text": [
            "Columns where every row has the same value:\n",
            " - DataSource: BRFSS (all rows)\n",
            " - PriorityArea1: nan (all rows)\n",
            " - PriorityArea3: nan (all rows)\n",
            " - Data_Value_Unit: Percent (%) (all rows)\n"
          ]
        }
      ],
      "source": [
        "# Identify columns where all values are the same\n",
        "constant_columns = [col for col in data.columns if data[col].nunique() == 1]\n",
        "\n",
        "# Output the results\n",
        "if constant_columns:\n",
        "    print(\"Columns where every row has the same value:\")\n",
        "    for col in constant_columns:\n",
        "        print(f\" - {col}: {data[col].iloc[0]} (all rows)\")\n",
        "else:\n",
        "    print(\"No columns have the same value for every row.\")"
      ]
    },
    {
      "cell_type": "markdown",
      "metadata": {
        "id": "FZFfaBwZ10HE"
      },
      "source": [
        "### 4. Range of Values\n",
        "\n",
        "Your data almost certainly has some numeric columns that can be summed or averaged.  Create a histogram that shows the distribution of values for this column."
      ]
    },
    {
      "cell_type": "code",
      "execution_count": 27,
      "metadata": {
        "id": "JRIzzelx10HE",
        "outputId": "976781fd-26cb-4823-cc4d-97e3d9c77927",
        "colab": {
          "base_uri": "https://localhost:8080/"
        }
      },
      "outputs": [
        {
          "output_type": "stream",
          "name": "stdout",
          "text": [
            "Sum of numeric columns:\n",
            "YearStart                322802480.0\n",
            "PriorityArea2                    0.0\n",
            "PriorityArea4                    0.0\n",
            "Data_Value                 2426972.1\n",
            "Data_Value_Alt             2322626.1\n",
            "Low_Confidence_Limit       2151546.0\n",
            "High_Confidence_Limit      2607791.1\n",
            "LocationId                 4727800.0\n",
            "dtype: float64\n",
            "\n",
            "Average of numeric columns:\n",
            "YearStart                2015.500000\n",
            "PriorityArea2                    NaN\n",
            "PriorityArea4                    NaN\n",
            "Data_Value                 31.020772\n",
            "Data_Value_Alt             14.501911\n",
            "Low_Confidence_Limit       28.193702\n",
            "High_Confidence_Limit      34.172305\n",
            "LocationId                 29.519231\n",
            "dtype: float64\n"
          ]
        }
      ],
      "source": [
        "# Identify numeric columns\n",
        "numeric_columns = data.select_dtypes(include='number').columns\n",
        "\n",
        "# Calculate the sum and average for each numeric column\n",
        "sum_values = data[numeric_columns].sum()\n",
        "avg_values = data[numeric_columns].mean()\n",
        "\n",
        "# Display the results\n",
        "print(\"Sum of numeric columns:\")\n",
        "print(sum_values)\n",
        "\n",
        "print(\"\\nAverage of numeric columns:\")\n",
        "print(avg_values)"
      ]
    },
    {
      "cell_type": "code",
      "source": [
        "# Ensure 'Data_Value' is numeric\n",
        "data['Data_Value'] = pd.to_numeric(data['Data_Value'], errors='coerce')\n",
        "\n",
        "# Plot a histogram of 'Data_Value'\n",
        "plt.figure(figsize=(10, 6))\n",
        "plt.hist(data['Data_Value'].dropna(), bins=30, color='skyblue', edgecolor='black')\n",
        "plt.title('Distribution of Data Values')\n",
        "plt.xlabel('Data Value')\n",
        "plt.ylabel('Frequency')\n",
        "plt.grid(True, linestyle='--', alpha=0.7)\n",
        "plt.show()"
      ],
      "metadata": {
        "id": "DFNuAs_955mY",
        "outputId": "4013699a-eb8e-48ab-e910-fed512ba9f03",
        "colab": {
          "base_uri": "https://localhost:8080/",
          "height": 564
        }
      },
      "execution_count": 28,
      "outputs": [
        {
          "output_type": "display_data",
          "data": {
            "text/plain": [
              "<Figure size 1000x600 with 1 Axes>"
            ],
            "image/png": "[encoded data removed]"
          },
          "metadata": {}
        }
      ]
    },
    {
      "cell_type": "markdown",
      "source": [
        "The histogram shows the distribution of `Data Values`, with a large concentration of values near 0, indicating many low or zero values in the dataset. As the values increase, the frequency decreases, suggesting that higher values are less common. The data appears to have a right-skewed distribution, with a long tail on the higher end."
      ],
      "metadata": {
        "id": "aoGIketx75rS"
      }
    },
    {
      "cell_type": "markdown",
      "source": [
        "I want to create another visualisations"
      ],
      "metadata": {
        "id": "06LqyIOe7h_F"
      }
    },
    {
      "cell_type": "code",
      "execution_count": 29,
      "metadata": {
        "id": "UzjthZrI10HE",
        "outputId": "924b14ba-3e9f-4b12-aced-b57924f62d5d",
        "colab": {
          "base_uri": "https://localhost:8080/",
          "height": 582
        }
      },
      "outputs": [
        {
          "output_type": "display_data",
          "data": {
            "text/plain": [
              "<Figure size 1200x600 with 1 Axes>"
            ],
            "image/png": "[encoded data removed]"
          },
          "metadata": {}
        }
      ],
      "source": [
        "# Group by 'LocationAbbr' and calculate average 'Data_Value'\n",
        "location_avg_values = data.groupby('LocationAbbr')['Data_Value'].mean()\n",
        "\n",
        "# Plot a bar chart for location-based data value distribution\n",
        "plt.figure(figsize=(12, 6))\n",
        "location_avg_values.plot(kind='bar', color='lightblue')\n",
        "plt.title('Average Data Value by Location')\n",
        "plt.xlabel('Location Abbreviation')\n",
        "plt.ylabel('Average Data Value')\n",
        "plt.xticks(rotation=45)\n",
        "plt.grid(axis='y', linestyle='--', alpha=0.7)\n",
        "plt.show()"
      ]
    },
    {
      "cell_type": "markdown",
      "metadata": {
        "id": "7R5bUsau10HE"
      },
      "source": [
        "\n",
        "\n",
        "---\n",
        "\n",
        "\n",
        "\n",
        "## Submitting Your Work\n",
        "\n",
        "Submit your work as usual."
      ]
    },
    {
      "cell_type": "code",
      "execution_count": 29,
      "metadata": {
        "id": "USBk9dPE10HE"
      },
      "outputs": [],
      "source": []
    }
  ],
  "metadata": {
    "celltoolbar": "Create Assignment",
    "kernelspec": {
      "display_name": "Python 3",
      "language": "python",
      "name": "python3"
    },
    "language_info": {
      "codemirror_mode": {
        "name": "ipython",
        "version": 3
      },
      "file_extension": ".py",
      "mimetype": "text/x-python",
      "name": "python",
      "nbconvert_exporter": "python",
      "pygments_lexer": "ipython3",
      "version": "3.6.7"
    },
    "colab": {
      "provenance": []
    }
  },
  "nbformat": 4,
  "nbformat_minor": 0
}